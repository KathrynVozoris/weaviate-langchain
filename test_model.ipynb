{
 "cells": [
  {
   "cell_type": "code",
   "execution_count": 34,
   "id": "62ba6107",
   "metadata": {},
   "outputs": [],
   "source": [
    "from openai import OpenAI\n",
    "from langchain_openai import ChatOpenAI\n",
    "import dotenv\n",
    "import os"
   ]
  },
  {
   "cell_type": "code",
   "execution_count": 38,
   "id": "88499dd8",
   "metadata": {},
   "outputs": [],
   "source": [
    "dotenv.load_dotenv()  \n",
    "api_key = os.getenv(\"OPENAI_API_KEY\")\n"
   ]
  },
  {
   "cell_type": "code",
   "execution_count": null,
   "id": "8231a840",
   "metadata": {},
   "outputs": [],
   "source": [
    "chat_model = ChatOpenAI(openai_api_key=api_key, model=\"gpt-4o\", temperature=0)\n",
    "chat_model.invoke(\"Hello\")"
   ]
  },
  {
   "cell_type": "code",
   "execution_count": null,
   "id": "df917a0a",
   "metadata": {},
   "outputs": [],
   "source": [
    "client = OpenAI(\n",
    "    api_key=api_key,\n",
    "\n",
    "    response = client.responses.create( model=\"gpt-5-nano\",input=\"write a haiku about ai\", store=True,))\n",
    "\n",
    "print(response.output_text);\n"
   ]
  }
 ],
 "metadata": {
  "kernelspec": {
   "display_name": "base",
   "language": "python",
   "name": "python3"
  },
  "language_info": {
   "codemirror_mode": {
    "name": "ipython",
    "version": 3
   },
   "file_extension": ".py",
   "mimetype": "text/x-python",
   "name": "python",
   "nbconvert_exporter": "python",
   "pygments_lexer": "ipython3",
   "version": "3.11.5"
  }
 },
 "nbformat": 4,
 "nbformat_minor": 5
}
