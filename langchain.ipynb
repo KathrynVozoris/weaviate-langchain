{
 "cells": [
  {
   "cell_type": "code",
   "execution_count": null,
   "id": "29f3f1e5",
   "metadata": {},
   "outputs": [],
   "source": [
    "from langchain_openai import ChatOpenAI\n",
    "from langchain.schema import HumanMessage, SystemMessage, AIMessage\n",
    "\n",
    "chat = ChatOpenAI(model_name=\"llama-2-chat\", \n",
    "                  openai_api_base=\"http://localhost:8000/v1\",\n",
    "                  openai_api_key=\"sk-xxx\", \n",
    "                  max_tokens=2048,\n",
    "                  temperature=0.7)\n",
    "\n",
    "messages = [\n",
    "    SystemMessage(\n",
    "        content=\"<describe ai system behaviour here>\"\n",
    "    ),\n",
    "    HumanMessage(\n",
    "        content=\"<your model prompt here>\"\n",
    "    ),\n",
    "    AIMessage(\n",
    "        content=\"<here comes the first model output>\"\n",
    "    ),\n",
    "    HumanMessage(\n",
    "        content=\"<your second model prompt here>\"\n",
    "    ),\n",
    "    AIMessage(\n",
    "        content=\"<here comes the second model output>\"\n",
    "    ),\n",
    "\n",
    "    .\n",
    "    . \n",
    "    .\n",
    "    \n",
    "    HumanMessage(\n",
    "        content=\"<your n-th model prompt here>\"\n",
    "    ),\n",
    "]\n",
    "\n",
    "output = chat.invoke(messages)\n",
    "print(output.content)"
   ]
  }
 ],
 "metadata": {
  "language_info": {
   "name": "python"
  }
 },
 "nbformat": 4,
 "nbformat_minor": 5
}
